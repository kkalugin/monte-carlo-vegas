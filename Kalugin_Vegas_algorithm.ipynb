{
 "cells": [
  {
   "cell_type": "markdown",
   "metadata": {},
   "source": [
    "Las Vegas (LV) Algorithms- Are randomized algorithms which always give the correct answer. The running time however is not fixed (not deterministic), that is it can vary for the same input. For eg. Randomized Quick Sort always gives a correctly sorted array as its output. However it takes $O(n\\,logn)$ time on average but can be as bad as $O(n^2)$ in the worst case.\n",
    "\n",
    "Monte Carlo (MC)  Algorithms - Are randomized algorithms which may not always give the right answer. The running time for these algorithms is fixed however. There is also generally a probability guarantee that the answer is right. For eg. if you used a non perfect hash to assign hash values to two different strings and then try to see if the strings are the same or not by comparing the hash values, then this is like a MC algorithm. You will mostly get the right answer but sometimes two different strings can end up having the same hash value.\n",
    "\n",
    "Идея алгоритма Лас-Вегаса состоит в следующем. Если у нас есть некий вероятностный алгоритм $A$, \n",
    "который с определенной вероятностью дает верный результат, и существует возможность алгоритмически проверить результат алгоритма  $A$ на корректность (скажем, с помощью алгоритма $K$), \n",
    "то можно выполнять алгоритм A до тех пор, пока проверка не установит, что результат верен."
   ]
  },
  {
   "cell_type": "markdown",
   "metadata": {},
   "source": [
    "$$\n",
    "Importance \\ sampling\n",
    "$$"
   ]
  },
  {
   "cell_type": "markdown",
   "metadata": {},
   "source": [
    "$$\n",
    "\\int{f\\mathrm{dV}} = \\int{\\left( \\frac{f}{g} \\right) g \\mathrm{dV}} = \n",
    "\\int{h g \\mathrm{dV}}\n",
    "$$"
   ]
  },
  {
   "cell_type": "code",
   "execution_count": 1,
   "metadata": {
    "collapsed": true
   },
   "outputs": [],
   "source": [
    "import numpy as np"
   ]
  },
  {
   "cell_type": "code",
   "execution_count": 2,
   "metadata": {
    "collapsed": true
   },
   "outputs": [],
   "source": [
    "def cartesian(arrays, out=None):\n",
    "    \"\"\"\n",
    "    Generate a cartesian product of input arrays.\n",
    "    Parameters\n",
    "    ----------\n",
    "    arrays : list of array-like\n",
    "        1-D arrays to form the cartesian product of.\n",
    "    out : ndarray\n",
    "        Array to place the cartesian product in.\n",
    "    Returns\n",
    "    -------\n",
    "    out : ndarray\n",
    "        2-D array of shape (M, len(arrays)) containing cartesian products\n",
    "        formed of input arrays.\n",
    "    Examples\n",
    "    --------\n",
    "    >>> cartesian(([1, 2, 3], [4, 5], [6, 7]))\n",
    "    array([[1, 4, 6],\n",
    "           [1, 4, 7],\n",
    "           [1, 5, 6],\n",
    "           [1, 5, 7],\n",
    "           [2, 4, 6],\n",
    "           [2, 4, 7],\n",
    "           [2, 5, 6],\n",
    "           [2, 5, 7],\n",
    "           [3, 4, 6],\n",
    "           [3, 4, 7],\n",
    "           [3, 5, 6],\n",
    "           [3, 5, 7]])\n",
    "    \"\"\"\n",
    "\n",
    "    arrays = [np.asarray(x) for x in arrays]\n",
    "    dtype = arrays[0].dtype\n",
    "\n",
    "    n = np.prod([x.size for x in arrays])\n",
    "    if out is None:\n",
    "        out = np.zeros([n, len(arrays)], dtype=dtype)\n",
    "\n",
    "    m = n / arrays[0].size\n",
    "    out[:,0] = np.repeat(arrays[0], m)\n",
    "    if arrays[1:]:\n",
    "        cartesian(arrays[1:], out=out[0:m,1:])\n",
    "        for j in range(1, arrays[0].size):\n",
    "            out[j*m:(j+1)*m,1:] = out[0:m,1:]\n",
    "    return out"
   ]
  },
  {
   "cell_type": "markdown",
   "metadata": {},
   "source": [
    "# Examples"
   ]
  },
  {
   "cell_type": "code",
   "execution_count": 3,
   "metadata": {
    "collapsed": true
   },
   "outputs": [],
   "source": [
    "## exact ans is =560\n",
    "\n",
    "def func(x):\n",
    "    return x[:, 0]**2 + x[:, 1]**2 - 2 * x[:, 2]**2\n",
    "fbound = np.array([-1, 3, -1, 6, -1, 4])"
   ]
  },
  {
   "cell_type": "code",
   "execution_count": 24,
   "metadata": {
    "collapsed": false
   },
   "outputs": [],
   "source": [
    "## exact ans is 39007.8\n",
    "\n",
    "def func(x):\n",
    "    return 2 * np.exp(x[:, 0]) * np.exp(x[:, 1]) +3 * np.exp(-2*x[:, 2])\n",
    "fbound = np.array([-1, 3, -5, 4, -3, 5])"
   ]
  },
  {
   "cell_type": "code",
   "execution_count": 50,
   "metadata": {
    "collapsed": true
   },
   "outputs": [],
   "source": [
    "## exact ans is 18862.0\n",
    "\n",
    "def func(x):\n",
    "    return np.exp(x[:, 0]) * np.exp(x[:, 1]) - 30\n",
    "fbound = np.array([-2, 4, -2, 4, 0, 10])"
   ]
  },
  {
   "cell_type": "code",
   "execution_count": null,
   "metadata": {
    "collapsed": true
   },
   "outputs": [],
   "source": [
    "## exact ans is 2415.6\n",
    "\n",
    "def func(x):\n",
    "    return 2 * np.exp(x[:, 0]) * np.exp(x[:, 1]) + 3 * np.exp(-2*x[:, 2]) - 30\n",
    "fbound = np.array([-2, 3, -2, 3, -2, 6])"
   ]
  },
  {
   "cell_type": "code",
   "execution_count": 57,
   "metadata": {
    "collapsed": false
   },
   "outputs": [],
   "source": [
    "\"\"\"\n",
    "    Находит интеграл функции по алгоритму Вегас.\n",
    "\n",
    "    Parameters\n",
    "    ---------------\n",
    "    func : function\n",
    "        - исходная функция\n",
    "    ndim : int number\n",
    "        - количество измерений\n",
    "    fbound : numpy.ndarray\n",
    "        - массив границ интегрирования. Размер 2*ndim \n",
    "    ndot, ntimes : int number\n",
    "        - Каждый интеграл вычисляется в ndot точках ntimes раз. Необходимо для рассчета\n",
    "        интеграла методом Монте-Карло и составления статистической выборки из результатов интегрирования.\n",
    "    \n",
    "    Returns\n",
    "    -------\n",
    "    intBest : double number\n",
    "        - наилучшее исчисление интеграла.\n",
    "        \n",
    "    Examples\n",
    "    --------\n",
    "    >> las_vegas_baby(lambda x: x[:, 0]**2 + x[:, 1]**2 - 1, 3, np.array([-1, 1, -1, 1, -1, 1]), 20000,200)\n",
    "    \n",
    "    out: (-2.6744828047074023, 0.0045140421646385452)\n",
    "\n",
    "    Inner variables\n",
    "    -------\n",
    "    g : fucntion\n",
    "        - PDF\n",
    "    integrals : numpy.ndarray\n",
    "        - массив значений интеграла на каждом шаге вычислений\n",
    "    standarddivs : numpy.ndarray\n",
    "        - массив значений отклонений от среднего на каждом шаге вычислений\n",
    "    grig : numpy.ndarray\n",
    "        - массив начальных точек разбиения всей области интегрирования на ndot объемов\n",
    "    gridlen : numpy.ndarray\n",
    "        - длина одного интервала в каждом из измерений        \n",
    "    weights : numpy.ndarray\n",
    "        - массив весовых коэффициентов каждого из объемов\n",
    "\n",
    "\"\"\"\n",
    "##initializating probability density function g, grid for integration volume and weights for grid elements\n",
    "def init(ndim, fbound, ndot, nperdim):\n",
    "    vol = fbound[1::2] - fbound[0::2]\n",
    "    \n",
    "    size = np.prod(vol)\n",
    "    if size <= 0:\n",
    "            raise ValueError(\"size <= 0. Something went wrong!\")\n",
    "\n",
    "    def g(x):\n",
    "        return 1.0/size\n",
    "    \n",
    "    grid = np.empty((ndim, nperdim))\n",
    "    gridlen = np.empty(ndim)\n",
    "    for i in range(ndim):\n",
    "        wigth = vol[i]/(nperdim)\n",
    "        grid[i] = np.linspace(fbound[2*i], fbound[2*i+1] - wigth, nperdim)\n",
    "        gridlen[i] = wigth\n",
    "\n",
    "    grid = cartesian(grid)       \n",
    "    weights = np.ones(ndot)/ndot  \n",
    "    \n",
    "    return g, grid, gridlen, weights\n",
    "\n",
    "## testing probability distribution function\n",
    "def mc_dim_g_test(g, ndim, fbound, ndot):\n",
    "    sum = 0\n",
    "    vol = fbound[1::2] - fbound[0::2]    \n",
    "    for i in range(ndot):\n",
    "        x = np.empty(ndim)\n",
    "        \n",
    "        for j in range(ndim):\n",
    "            x[j] = np.random.random() * vol[j] + fbound[2*j]\n",
    "        sum += g(x)\n",
    "\n",
    "    return np.prod(vol)*sum/ndot\n",
    "\n",
    "## calculating integral of abs func\n",
    "def mc_dim_abs(func, g, grid, gridlen, weights, ndim, fbound, ndot):\n",
    "    sum = 0\n",
    "    vol = fbound[1::2] - fbound[0::2]\n",
    "    ind = []\n",
    "    for i in range(ndot): ind.append(i)\n",
    "        \n",
    "    elem = np.random.choice(ind, ndot, p=weights)\n",
    "    x = grid[elem] + np.random.random((ndot, ndim)) * gridlen   \n",
    "    \n",
    "    sum = np.sum(abs(func(x))/g(x))\n",
    "    return sum / ndot\n",
    "\n",
    "## calculating integral of func\n",
    "def mc_dim(func, g, grid, gridlen, weights, ndim, fbound, ndot):\n",
    "    sum = 0\n",
    "    vol = fbound[1::2] - fbound[0::2]\n",
    "    ind = []\n",
    "    for i in range(ndot): ind.append(i)\n",
    "\n",
    "    elem = np.random.choice(ind, ndot, p=weights)    \n",
    "    x = grid[elem] + np.random.random((ndot, ndim)) * gridlen  \n",
    "\n",
    "    sum = np.sum(func(x)/g(x))    \n",
    "    return sum / ndot\n",
    "\n",
    "\n",
    "## evolving probability distribution function g\n",
    "def mutate_g(func, int_abs):\n",
    "    def g(x):        \n",
    "        return abs(func(x)) / int_abs\n",
    "    return g\n",
    "\n",
    "\n",
    "## evolving weights of our grid\n",
    "def mutate_weights(g, grid, gridlen, weights, ndot):\n",
    "    f_avr = np.empty(ndot)\n",
    "    newgrid = grid + gridlen/2    \n",
    "    f_avr = g(newgrid)\n",
    "    #f_avr /= sum(f_avr)\n",
    "    #f_avr += abs(np.random.normal(0, 1/ndot, ndot))    \n",
    "    return f_avr/sum(f_avr)\n",
    "            \n",
    "    \n",
    "    \n",
    " \n",
    "\n",
    "\n",
    "    \n",
    "    \n",
    "## __main__ function   \n",
    "def las_vegas_baby(func, ndim, fbound, ndot, ntimes):\n",
    "\n",
    "    if not(fbound.size == (ndim * 2)):\n",
    "        raise ValueError(\"Error in ndim-fbound size!\")    \n",
    "    \n",
    "    # корень берется с ошибкой. Пришлось резать число ndot\n",
    "    nperdim = int(ndot**(1/ndim))\n",
    "    ndot = nperdim**ndim\n",
    "    print(\"Actual number of dots is \", ndot)   \n",
    "    if nperdim != int(nperdim):\n",
    "        raise ValueError(\"Please let be ndot be ndim-root\")        \n",
    "    \n",
    "    integrals = np.empty(0)\n",
    "    standarddivs = np.empty(0)\n",
    "    \n",
    "    # at frst g is distpibuted uniformaly over volume\n",
    "    g, grid, gridlen, weights = init(ndim, fbound, ndot, nperdim)    \n",
    "    \n",
    "    PDF_abs = np.empty(0)\n",
    "    for _ in range(ntimes):\n",
    "        PDF_abs = np.append(PDF_abs, mc_dim_abs(func, g, grid, gridlen, weights, ndim, fbound, ndot))  \n",
    "   \n",
    "    itmax = 4    \n",
    "    for i in range(itmax):        \n",
    "        PDF = np.empty(0)\n",
    "        #PDF_abs = np.empty(0)\n",
    "\n",
    "        for _ in range(ntimes):\n",
    "            PDF = np.append(PDF, mc_dim(func, g, grid, gridlen, weights, ndim, fbound, ndot)) \n",
    "            #PDF_abs = np.append(PDF_abs, mc_dim_abs(func, g, grid, gridlen, weights, ndim, fbound, ndot))\n",
    "            \n",
    "            # make sure that \\int{g\\mathrm{dV}} = 1\n",
    "            #PDF = np.append(PDF, mc_dim_tast(g, ndim, fbound, ndot))       \n",
    "        integrals = np.append(integrals, np.mean(PDF))\n",
    "        standarddivs = np.append(standarddivs, np.std(PDF))\n",
    "       \n",
    "        # mutate once\n",
    "        if i<1:\n",
    "            g = mutate_g(func, np.mean(PDF_abs))\n",
    "            weights = mutate_weights(g, grid, gridlen, weights, ndot)   \n",
    "        \n",
    "        intBest = np.sum(integrals/standarddivs**2)/np.sum(1/standarddivs**2)\n",
    "        stdBest = np.sum(1/standarddivs**2)**(-1/2)        \n",
    "        \n",
    "        ## print section\n",
    "        print(\"--------------------\", i+1, \"--------------------\")\n",
    "        #rint(\"Value of integral = \", integrals[-1])\n",
    "        #rint(\"Value of std = \", standarddivs[-1])\n",
    "        #rint(\"|||||\")\n",
    "        print(\"Ans so far is \", intBest, \"+-\", stdBest)\n",
    "        #rint(\"Best std is  \", stdBest)\n",
    "\n",
    "        # Stop module\n",
    "        \n",
    "        #m = integrals.size\n",
    "        #if m > 1:\n",
    "        #    Xi = 1/(m-1) * np.sum(((integrals - intBest)/standarddivs)**2)\n",
    "        #    print(\"Xi = \", Xi)\n",
    "        #    if Xi != Xi:\n",
    "        #        raise ValueError(\"Xi = NaN. Something went wrong!\")\n",
    "        #    #if Xi < 1:\n",
    "        #    #    return intBest, stdBest\n",
    "                   \n",
    "    print(\"--------------------------------------------\")    \n",
    "    print(\"Answer = \", intBest, \" +- \", stdBest)\n",
    "\n",
    "    return intBest, stdBest"
   ]
  },
  {
   "cell_type": "code",
   "execution_count": 58,
   "metadata": {
    "collapsed": false
   },
   "outputs": [
    {
     "name": "stdout",
     "output_type": "stream",
     "text": [
      "Actual number of dots is  29791\n"
     ]
    },
    {
     "name": "stderr",
     "output_type": "stream",
     "text": [
      "d:\\Anaconda3\\lib\\site-packages\\ipykernel\\__main__.py:42: VisibleDeprecationWarning: using a non-integer number instead of an integer will result in an error in the future\n",
      "d:\\Anaconda3\\lib\\site-packages\\ipykernel\\__main__.py:44: VisibleDeprecationWarning: using a non-integer number instead of an integer will result in an error in the future\n"
     ]
    },
    {
     "name": "stdout",
     "output_type": "stream",
     "text": [
      "-------------------- 1 --------------------\n",
      "Ans so far is  18855.0115041 +- 518.152534064\n",
      "-------------------- 2 --------------------\n",
      "Ans so far is  18862.3595287 +- 134.579359917\n",
      "-------------------- 3 --------------------\n",
      "Ans so far is  18866.9722071 +- 98.354908665\n",
      "-------------------- 4 --------------------\n",
      "Ans so far is  18863.624847 +- 82.5424837166\n",
      "--------------------------------------------\n",
      "Answer =  18863.624847  +-  82.5424837166\n"
     ]
    }
   ],
   "source": [
    "#%%timeit\n",
    "ing, std = las_vegas_baby(func, 3, fbound, 30000, 300)"
   ]
  },
  {
   "cell_type": "code",
   "execution_count": null,
   "metadata": {
    "collapsed": true
   },
   "outputs": [],
   "source": []
  }
 ],
 "metadata": {
  "anaconda-cloud": {},
  "kernelspec": {
   "display_name": "Python [conda root]",
   "language": "python",
   "name": "conda-root-py"
  },
  "language_info": {
   "codemirror_mode": {
    "name": "ipython",
    "version": 3
   },
   "file_extension": ".py",
   "mimetype": "text/x-python",
   "name": "python",
   "nbconvert_exporter": "python",
   "pygments_lexer": "ipython3",
   "version": "3.5.2"
  }
 },
 "nbformat": 4,
 "nbformat_minor": 1
}
